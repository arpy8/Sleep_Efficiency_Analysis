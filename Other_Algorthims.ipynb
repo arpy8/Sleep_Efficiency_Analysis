{
 "cells": [
  {
   "cell_type": "code",
   "execution_count": 6,
   "metadata": {},
   "outputs": [],
   "source": [
    "data_path = \"data/Sleep_Efficiency.csv\""
   ]
  },
  {
   "cell_type": "code",
   "execution_count": 7,
   "metadata": {},
   "outputs": [],
   "source": [
    "import pandas as pd\n",
    "\n",
    "data = pd.read_csv(data_path)"
   ]
  },
  {
   "cell_type": "code",
   "execution_count": 8,
   "metadata": {},
   "outputs": [
    {
     "data": {
      "text/plain": [
       "ID                        0\n",
       "Age                       0\n",
       "Gender                    0\n",
       "Bedtime                   0\n",
       "Wakeup time               0\n",
       "Sleep duration            0\n",
       "Sleep efficiency          0\n",
       "REM sleep percentage      0\n",
       "Deep sleep percentage     0\n",
       "Light sleep percentage    0\n",
       "Awakenings                0\n",
       "Caffeine consumption      0\n",
       "Alcohol consumption       0\n",
       "Smoking status            0\n",
       "Exercise frequency        0\n",
       "dtype: int64"
      ]
     },
     "execution_count": 8,
     "metadata": {},
     "output_type": "execute_result"
    }
   ],
   "source": [
    "data.drop_duplicates(inplace=True)\n",
    "data.dropna(inplace=True)\n",
    "\n",
    "data.isnull().sum()"
   ]
  },
  {
   "cell_type": "code",
   "execution_count": 9,
   "metadata": {},
   "outputs": [
    {
     "data": {
      "text/html": [
       "<div>\n",
       "<style scoped>\n",
       "    .dataframe tbody tr th:only-of-type {\n",
       "        vertical-align: middle;\n",
       "    }\n",
       "\n",
       "    .dataframe tbody tr th {\n",
       "        vertical-align: top;\n",
       "    }\n",
       "\n",
       "    .dataframe thead th {\n",
       "        text-align: right;\n",
       "    }\n",
       "</style>\n",
       "<table border=\"1\" class=\"dataframe\">\n",
       "  <thead>\n",
       "    <tr style=\"text-align: right;\">\n",
       "      <th></th>\n",
       "      <th>ID</th>\n",
       "      <th>Age</th>\n",
       "      <th>Gender</th>\n",
       "      <th>Bedtime</th>\n",
       "      <th>Wakeup time</th>\n",
       "      <th>Sleep duration</th>\n",
       "      <th>Sleep efficiency</th>\n",
       "      <th>REM sleep percentage</th>\n",
       "      <th>Deep sleep percentage</th>\n",
       "      <th>Light sleep percentage</th>\n",
       "      <th>Awakenings</th>\n",
       "      <th>Caffeine consumption</th>\n",
       "      <th>Alcohol consumption</th>\n",
       "      <th>Smoking status</th>\n",
       "      <th>Exercise frequency</th>\n",
       "    </tr>\n",
       "  </thead>\n",
       "  <tbody>\n",
       "    <tr>\n",
       "      <th>0</th>\n",
       "      <td>1</td>\n",
       "      <td>65</td>\n",
       "      <td>0</td>\n",
       "      <td>1</td>\n",
       "      <td>1</td>\n",
       "      <td>6.0</td>\n",
       "      <td>0.88</td>\n",
       "      <td>18</td>\n",
       "      <td>70</td>\n",
       "      <td>12</td>\n",
       "      <td>0.0</td>\n",
       "      <td>0.0</td>\n",
       "      <td>0.0</td>\n",
       "      <td>1</td>\n",
       "      <td>3.0</td>\n",
       "    </tr>\n",
       "    <tr>\n",
       "      <th>1</th>\n",
       "      <td>2</td>\n",
       "      <td>69</td>\n",
       "      <td>1</td>\n",
       "      <td>1</td>\n",
       "      <td>1</td>\n",
       "      <td>7.0</td>\n",
       "      <td>0.66</td>\n",
       "      <td>19</td>\n",
       "      <td>28</td>\n",
       "      <td>53</td>\n",
       "      <td>3.0</td>\n",
       "      <td>0.0</td>\n",
       "      <td>3.0</td>\n",
       "      <td>1</td>\n",
       "      <td>3.0</td>\n",
       "    </tr>\n",
       "    <tr>\n",
       "      <th>2</th>\n",
       "      <td>3</td>\n",
       "      <td>40</td>\n",
       "      <td>0</td>\n",
       "      <td>1</td>\n",
       "      <td>1</td>\n",
       "      <td>8.0</td>\n",
       "      <td>0.89</td>\n",
       "      <td>20</td>\n",
       "      <td>70</td>\n",
       "      <td>10</td>\n",
       "      <td>1.0</td>\n",
       "      <td>0.0</td>\n",
       "      <td>0.0</td>\n",
       "      <td>0</td>\n",
       "      <td>3.0</td>\n",
       "    </tr>\n",
       "    <tr>\n",
       "      <th>3</th>\n",
       "      <td>4</td>\n",
       "      <td>40</td>\n",
       "      <td>0</td>\n",
       "      <td>1</td>\n",
       "      <td>1</td>\n",
       "      <td>6.0</td>\n",
       "      <td>0.51</td>\n",
       "      <td>23</td>\n",
       "      <td>25</td>\n",
       "      <td>52</td>\n",
       "      <td>3.0</td>\n",
       "      <td>50.0</td>\n",
       "      <td>5.0</td>\n",
       "      <td>1</td>\n",
       "      <td>1.0</td>\n",
       "    </tr>\n",
       "    <tr>\n",
       "      <th>4</th>\n",
       "      <td>5</td>\n",
       "      <td>57</td>\n",
       "      <td>1</td>\n",
       "      <td>1</td>\n",
       "      <td>1</td>\n",
       "      <td>8.0</td>\n",
       "      <td>0.76</td>\n",
       "      <td>27</td>\n",
       "      <td>55</td>\n",
       "      <td>18</td>\n",
       "      <td>3.0</td>\n",
       "      <td>0.0</td>\n",
       "      <td>3.0</td>\n",
       "      <td>0</td>\n",
       "      <td>3.0</td>\n",
       "    </tr>\n",
       "  </tbody>\n",
       "</table>\n",
       "</div>"
      ],
      "text/plain": [
       "   ID  Age  Gender  Bedtime  Wakeup time  Sleep duration  Sleep efficiency  \\\n",
       "0   1   65       0        1            1             6.0              0.88   \n",
       "1   2   69       1        1            1             7.0              0.66   \n",
       "2   3   40       0        1            1             8.0              0.89   \n",
       "3   4   40       0        1            1             6.0              0.51   \n",
       "4   5   57       1        1            1             8.0              0.76   \n",
       "\n",
       "   REM sleep percentage  Deep sleep percentage  Light sleep percentage  \\\n",
       "0                    18                     70                      12   \n",
       "1                    19                     28                      53   \n",
       "2                    20                     70                      10   \n",
       "3                    23                     25                      52   \n",
       "4                    27                     55                      18   \n",
       "\n",
       "   Awakenings  Caffeine consumption  Alcohol consumption  Smoking status  \\\n",
       "0         0.0                   0.0                  0.0               1   \n",
       "1         3.0                   0.0                  3.0               1   \n",
       "2         1.0                   0.0                  0.0               0   \n",
       "3         3.0                  50.0                  5.0               1   \n",
       "4         3.0                   0.0                  3.0               0   \n",
       "\n",
       "   Exercise frequency  \n",
       "0                 3.0  \n",
       "1                 3.0  \n",
       "2                 3.0  \n",
       "3                 1.0  \n",
       "4                 3.0  "
      ]
     },
     "execution_count": 9,
     "metadata": {},
     "output_type": "execute_result"
    }
   ],
   "source": [
    "data['Gender'] = data['Gender'].replace({'Male': 1, 'Female': 0})\n",
    "data['Smoking status'] = data['Smoking status'].replace({'Yes': 1, 'No': 0})\n",
    "\n",
    "import datetime as dt\n",
    "\n",
    "data['Bedtime'] = pd.to_datetime(data['Bedtime']).dt.time\n",
    "data['Bedtime'] = data['Bedtime'].apply(lambda x: dt.datetime.combine(dt.date(1, 1, 1), x).toordinal())\n",
    "\n",
    "data['Wakeup time'] = pd.to_datetime(data['Wakeup time']).dt.time\n",
    "data['Wakeup time'] = data['Wakeup time'].apply(lambda x: dt.datetime.combine(dt.date(1, 1, 1), x).toordinal())\n",
    "\n",
    "data.head()"
   ]
  },
  {
   "cell_type": "code",
   "execution_count": 25,
   "metadata": {},
   "outputs": [
    {
     "data": {
      "text/plain": [
       "0      0.88\n",
       "1      0.66\n",
       "2      0.89\n",
       "3      0.51\n",
       "4      0.76\n",
       "       ... \n",
       "445    0.53\n",
       "447    0.91\n",
       "448    0.74\n",
       "450    0.76\n",
       "451    0.63\n",
       "Name: Sleep efficiency, Length: 388, dtype: float64"
      ]
     },
     "execution_count": 25,
     "metadata": {},
     "output_type": "execute_result"
    }
   ],
   "source": [
    "y"
   ]
  },
  {
   "cell_type": "code",
   "execution_count": 10,
   "metadata": {},
   "outputs": [],
   "source": [
    "# feature selection\n",
    "X = data[['Age', 'Gender', 'Sleep duration',\n",
    "       'REM sleep percentage', 'Deep sleep percentage', 'Light sleep percentage',\n",
    "       'Awakenings', 'Caffeine consumption', 'Smoking Status', 'Exercise frequency']]\n",
    "\n",
    "# target variable\n",
    "y = data['Sleep efficiency']"
   ]
  },
  {
   "cell_type": "code",
   "execution_count": 11,
   "metadata": {},
   "outputs": [
    {
     "data": {
      "text/plain": [
       "((310, 8), (78, 8), (310,), (78,))"
      ]
     },
     "execution_count": 11,
     "metadata": {},
     "output_type": "execute_result"
    }
   ],
   "source": [
    "from sklearn.model_selection import train_test_split\n",
    "\n",
    "X_train, X_test, y_train, y_test = train_test_split(X, y, random_state=42, test_size=0.2)\n",
    "X_train.shape, X_test.shape, y_train.shape, y_test.shape"
   ]
  },
  {
   "cell_type": "code",
   "execution_count": 14,
   "metadata": {},
   "outputs": [],
   "source": [
    "from sklearn.metrics import mean_absolute_error, mean_squared_error, r2_score"
   ]
  },
  {
   "cell_type": "markdown",
   "metadata": {},
   "source": [
    "### Gradient Boosting Regressor"
   ]
  },
  {
   "cell_type": "code",
   "execution_count": 18,
   "metadata": {},
   "outputs": [
    {
     "name": "stdout",
     "output_type": "stream",
     "text": [
      "Accuracy for Gradient Boosting Regresser : 0.87\n",
      "\n",
      "Mean Absolute Error (MAE): 0.041\n",
      "Mean Squared Error (MSE): 0.003\n",
      "Root Mean Squared Error (RMSE): 0.05\n",
      "R-squared (R²): 0.866\n",
      "Mean Absolute Percentage Error (MAPE): 5.74\n"
     ]
    }
   ],
   "source": [
    "import numpy as np\n",
    "from sklearn.ensemble import GradientBoostingRegressor\n",
    "\n",
    "model = GradientBoostingRegressor(random_state=8737)\n",
    "model.fit(X_train, y_train)\n",
    "\n",
    "print(\"Accuracy for Gradient Boosting Regresser : {:.2f}\\n\".format(model.score(X_test, y_test)))\n",
    "\n",
    "y_pred_lr = model.predict(X_test)\n",
    "\n",
    "lr_mae = mean_absolute_error(y_test, y_pred_lr)\n",
    "lr_mse = mean_squared_error(y_test, y_pred_lr)\n",
    "lr_rmse = np.sqrt(lr_mse)\n",
    "lr_r2 = r2_score(y_test, y_pred_lr)\n",
    "lr_mape = np.mean(np.abs((y_test - y_pred_lr) / y_test)) * 100\n",
    "\n",
    "print(f\"Mean Absolute Error (MAE): {lr_mae.round(3)}\")\n",
    "print(f\"Mean Squared Error (MSE): {lr_mse.round(3)}\")\n",
    "print(f\"Root Mean Squared Error (RMSE): {lr_rmse.round(3)}\")\n",
    "print(f\"R-squared (R²): {lr_r2.round(3)}\")\n",
    "print(f\"Mean Absolute Percentage Error (MAPE): {lr_mape.round(3)}\")"
   ]
  },
  {
   "cell_type": "markdown",
   "metadata": {},
   "source": [
    "### Random Forest Regressor"
   ]
  },
  {
   "cell_type": "code",
   "execution_count": 19,
   "metadata": {},
   "outputs": [
    {
     "name": "stdout",
     "output_type": "stream",
     "text": [
      "Accuracy for Random Forest Regresser : 0.87\n",
      "\n",
      "Mean Absolute Error (MAE): 0.039\n",
      "Mean Squared Error (MSE): 0.002\n",
      "Root Mean Squared Error (RMSE): 0.049\n",
      "R-squared (R²): 0.874\n",
      "Mean Absolute Percentage Error (MAPE): 5.499\n"
     ]
    }
   ],
   "source": [
    "import numpy as np\n",
    "from sklearn.ensemble import RandomForestRegressor\n",
    "\n",
    "model = RandomForestRegressor(n_jobs=-1, random_state=8737)\n",
    "model.fit(X_train, y_train)\n",
    "\n",
    "print(\"Accuracy for Random Forest Regresser : {:.2f}\\n\".format(model.score(X_test, y_test)))\n",
    "\n",
    "y_pred_lr = model.predict(X_test)\n",
    "\n",
    "lr_mae = mean_absolute_error(y_test, y_pred_lr)\n",
    "lr_mse = mean_squared_error(y_test, y_pred_lr)\n",
    "lr_rmse = np.sqrt(lr_mse)\n",
    "lr_r2 = r2_score(y_test, y_pred_lr)\n",
    "lr_mape = np.mean(np.abs((y_test - y_pred_lr) / y_test)) * 100\n",
    "\n",
    "print(f\"Mean Absolute Error (MAE): {lr_mae.round(3)}\")\n",
    "print(f\"Mean Squared Error (MSE): {lr_mse.round(3)}\")\n",
    "print(f\"Root Mean Squared Error (RMSE): {lr_rmse.round(3)}\")\n",
    "print(f\"R-squared (R²): {lr_r2.round(3)}\")\n",
    "print(f\"Mean Absolute Percentage Error (MAPE): {lr_mape.round(3)}\")"
   ]
  },
  {
   "cell_type": "markdown",
   "metadata": {},
   "source": [
    "### Ada Boost Regressor"
   ]
  },
  {
   "cell_type": "code",
   "execution_count": 20,
   "metadata": {},
   "outputs": [
    {
     "name": "stdout",
     "output_type": "stream",
     "text": [
      "Accuracy for Ada Boost Regresser : 0.86\n",
      "\n",
      "Mean Absolute Error (MAE): 0.043\n",
      "Mean Squared Error (MSE): 0.003\n",
      "Root Mean Squared Error (RMSE): 0.051\n",
      "R-squared (R²): 0.863\n",
      "Mean Absolute Percentage Error (MAPE): 5.963\n"
     ]
    }
   ],
   "source": [
    "import numpy as np\n",
    "from sklearn.ensemble import AdaBoostRegressor\n",
    "from sklearn.metrics import mean_absolute_error, mean_squared_error, r2_score\n",
    "\n",
    "model = AdaBoostRegressor(random_state=8737)\n",
    "model.fit(X_train, y_train)\n",
    "\n",
    "print(\"Accuracy for Ada Boost Regresser : {:.2f}\\n\".format(model.score(X_test, y_test)))\n",
    "\n",
    "y_pred_lr = model.predict(X_test)\n",
    "\n",
    "lr_mae = mean_absolute_error(y_test, y_pred_lr)\n",
    "lr_mse = mean_squared_error(y_test, y_pred_lr)\n",
    "lr_rmse = np.sqrt(lr_mse)\n",
    "lr_r2 = r2_score(y_test, y_pred_lr)\n",
    "lr_mape = np.mean(np.abs((y_test - y_pred_lr) / y_test)) * 100\n",
    "\n",
    "print(f\"Mean Absolute Error (MAE): {lr_mae.round(3)}\")\n",
    "print(f\"Mean Squared Error (MSE): {lr_mse.round(3)}\")\n",
    "print(f\"Root Mean Squared Error (RMSE): {lr_rmse.round(3)}\")\n",
    "print(f\"R-squared (R²): {lr_r2.round(3)}\")\n",
    "print(f\"Mean Absolute Percentage Error (MAPE): {lr_mape.round(3)}\")"
   ]
  },
  {
   "cell_type": "markdown",
   "metadata": {},
   "source": [
    "### Stacking Regressor"
   ]
  },
  {
   "cell_type": "code",
   "execution_count": 22,
   "metadata": {},
   "outputs": [
    {
     "name": "stdout",
     "output_type": "stream",
     "text": [
      "Accuracy for Ada Boost Regresser : 0.86\n",
      "\n",
      "Mean Absolute Error (MAE): 0.042\n",
      "Mean Squared Error (MSE): 0.003\n",
      "Root Mean Squared Error (RMSE): 0.051\n",
      "R-squared (R²): 0.861\n",
      "Mean Absolute Percentage Error (MAPE): 5.965\n"
     ]
    }
   ],
   "source": [
    "import numpy as np\n",
    "from sklearn.ensemble import StackingRegressor\n",
    "\n",
    "model = StackingRegressor(estimators=[('ada', AdaBoostRegressor(random_state=8737))], n_jobs=-1)\n",
    "model.fit(X_train, y_train)\n",
    "\n",
    "print(\"Accuracy for Ada Boost Regresser : {:.2f}\\n\".format(model.score(X_test, y_test)))\n",
    "\n",
    "y_pred_lr = model.predict(X_test)\n",
    "\n",
    "lr_mae = mean_absolute_error(y_test, y_pred_lr)\n",
    "lr_mse = mean_squared_error(y_test, y_pred_lr)\n",
    "lr_rmse = np.sqrt(lr_mse)\n",
    "lr_r2 = r2_score(y_test, y_pred_lr)\n",
    "lr_mape = np.mean(np.abs((y_test - y_pred_lr) / y_test)) * 100\n",
    "\n",
    "print(f\"Mean Absolute Error (MAE): {lr_mae.round(3)}\")\n",
    "print(f\"Mean Squared Error (MSE): {lr_mse.round(3)}\")\n",
    "print(f\"Root Mean Squared Error (RMSE): {lr_rmse.round(3)}\")\n",
    "print(f\"R-squared (R²): {lr_r2.round(3)}\")\n",
    "print(f\"Mean Absolute Percentage Error (MAPE): {lr_mape.round(3)}\")"
   ]
  },
  {
   "cell_type": "markdown",
   "metadata": {},
   "source": [
    "### Bagging Regressor"
   ]
  },
  {
   "cell_type": "code",
   "execution_count": 24,
   "metadata": {},
   "outputs": [
    {
     "name": "stdout",
     "output_type": "stream",
     "text": [
      "Accuracy for Baggin Regressor : 0.87\n",
      "\n",
      "Mean Absolute Error (MAE): 0.041\n",
      "Mean Squared Error (MSE): 0.003\n",
      "Root Mean Squared Error (RMSE): 0.05\n",
      "R-squared (R²): 0.867\n",
      "Mean Absolute Percentage Error (MAPE): 5.684\n"
     ]
    }
   ],
   "source": [
    "import numpy as np\n",
    "from sklearn.ensemble import BaggingRegressor\n",
    "\n",
    "model = BaggingRegressor(n_jobs=-1)\n",
    "model.fit(X_train, y_train)\n",
    "\n",
    "print(\"Accuracy for Baggin Regressor : {:.2f}\\n\".format(model.score(X_test, y_test)))\n",
    "\n",
    "y_pred_lr = model.predict(X_test)\n",
    "\n",
    "lr_mae = mean_absolute_error(y_test, y_pred_lr)\n",
    "lr_mse = mean_squared_error(y_test, y_pred_lr)\n",
    "lr_rmse = np.sqrt(lr_mse)\n",
    "lr_r2 = r2_score(y_test, y_pred_lr)\n",
    "lr_mape = np.mean(np.abs((y_test - y_pred_lr) / y_test)) * 100\n",
    "\n",
    "print(f\"Mean Absolute Error (MAE): {lr_mae.round(3)}\")\n",
    "print(f\"Mean Squared Error (MSE): {lr_mse.round(3)}\")\n",
    "print(f\"Root Mean Squared Error (RMSE): {lr_rmse.round(3)}\")\n",
    "print(f\"R-squared (R²): {lr_r2.round(3)}\")\n",
    "print(f\"Mean Absolute Percentage Error (MAPE): {lr_mape.round(3)}\")"
   ]
  }
 ],
 "metadata": {
  "kernelspec": {
   "display_name": "Python 3",
   "language": "python",
   "name": "python3"
  },
  "language_info": {
   "codemirror_mode": {
    "name": "ipython",
    "version": 3
   },
   "file_extension": ".py",
   "mimetype": "text/x-python",
   "name": "python",
   "nbconvert_exporter": "python",
   "pygments_lexer": "ipython3",
   "version": "3.11.5"
  }
 },
 "nbformat": 4,
 "nbformat_minor": 2
}
